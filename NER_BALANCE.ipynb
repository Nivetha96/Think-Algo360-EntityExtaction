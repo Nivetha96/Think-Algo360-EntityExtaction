{
 "cells": [
  {
   "cell_type": "code",
   "execution_count": 1,
   "metadata": {
    "colab": {},
    "colab_type": "code",
    "id": "uFOzg9cbOd59"
   },
   "outputs": [],
   "source": [
    "from __future__ import unicode_literals, print_function\n",
    "import plac\n",
    "import random\n",
    "from pathlib import Path\n",
    "import spacy\n",
    "import json\n",
    "import io\n",
    "from spacy.util import minibatch, compounding"
   ]
  },
  {
   "cell_type": "code",
   "execution_count": 2,
   "metadata": {},
   "outputs": [],
   "source": [
    "LABELS = ['DATE OF TRANSACTION', 'TIME OF TRANSACTION', 'ACCOUNT NO', 'TOTAL BALANCE', 'CARD NO', 'LEDGER BALANCE', \n",
    "          'COMBINED BALANCE', 'CHEQUE NO', 'CLEARING BALANCE', 'VENDOR LIST', 'ACCOUNT BALANCE', 'CLOSING BALANCE']\n",
    "\n",
    "with io.open('C:/Users/Simrandeep/Desktop/train_balance.json', encoding='utf8') as f:\n",
    "    TRAIN_DATA = json.load(f)"
   ]
  },
  {
   "cell_type": "code",
   "execution_count": 3,
   "metadata": {
    "colab": {
     "base_uri": "https://localhost:8080/",
     "height": 425
    },
    "colab_type": "code",
    "id": "4s3VpcQbOpTd",
    "outputId": "d1130be2-c9a6-4da6-b87f-39186fe1875c"
   },
   "outputs": [
    {
     "name": "stdout",
     "output_type": "stream",
     "text": [
      "Created blank 'en' model\n",
      "Warning: Unnamed vectors -- this won't allow multiple vectors models to be loaded. (Shape: (0, 0))\n",
      "{'ner': 20.982623775754291}\n",
      "{'ner': 10.92291052039711}\n",
      "{'ner': 6.5293833429170807}\n",
      "{'ner': 11.384915164251188}\n",
      "{'ner': 8.2800714179368171}\n",
      "{'ner': 5.3146514327072714}\n",
      "{'ner': 3.1955476586673623}\n",
      "{'ner': 2.792840809548589}\n",
      "{'ner': 2.6939472047092967}\n",
      "{'ner': 1.7445516466266544}\n",
      "{'ner': 1.9075971461758068}\n",
      "{'ner': 2.3603735493395899}\n",
      "{'ner': 1.4855957111028517}\n",
      "{'ner': 1.1551367467776428}\n",
      "{'ner': 1.2383106059704536}\n",
      "{'ner': 0.54290494729446481}\n",
      "{'ner': 0.69476572483958898}\n",
      "{'ner': 0.60802599298728399}\n",
      "{'ner': 0.79266027195367517}\n",
      "{'ner': 0.69748499422048305}\n",
      "{'ner': 0.61325245945279883}\n",
      "{'ner': 0.21908239016520095}\n",
      "{'ner': 1.2461364555256613}\n",
      "{'ner': 0.59805043473811614}\n",
      "{'ner': 0.59201137202061049}\n",
      "{'ner': 0.6992538253028695}\n",
      "{'ner': 0.43932338624593659}\n",
      "{'ner': 0.28292104391356515}\n",
      "{'ner': 0.70801233584301182}\n",
      "{'ner': 0.53083137645532763}\n",
      "{'ner': 0.19857657631750125}\n",
      "{'ner': 0.00069613698139184776}\n",
      "{'ner': 0.027209845276029123}\n",
      "{'ner': 0.11654657021306629}\n",
      "{'ner': 0.2807118008490791}\n",
      "{'ner': 0.22445327253543504}\n",
      "{'ner': 0.021865483227827508}\n",
      "{'ner': 5.035328747140841e-05}\n",
      "{'ner': 0.38281356796773197}\n",
      "{'ner': 0.16954130066522091}\n",
      "{'ner': 7.0294366292590364e-07}\n",
      "{'ner': 0.024055970567506208}\n",
      "{'ner': 0.17747071371863204}\n",
      "{'ner': 0.12662038239912385}\n",
      "{'ner': 1.6485701600838806e-05}\n",
      "{'ner': 5.5972217545482026e-07}\n",
      "{'ner': 7.9040475687473815e-05}\n",
      "{'ner': 0.005786034557915834}\n",
      "{'ner': 0.096578635149119949}\n",
      "{'ner': 0.46055100228618961}\n",
      "Entities in 'THE ACCOUNT NUMBER XXXXXXXX254103 HAS LEDGER BALANCE OF RS 8754.34 AND AVAILABLE BALANCE OF RS 8754.34 AS ON 14/02/2018 AT 03:02.'\n",
      "ACCOUNT NO XXXXXXXX254103\n",
      "LEDGER BALANCE RS 8754.34\n",
      "ACCOUNT BALANCE RS 8754.34\n",
      "DATE OF TRANSACTION 14/02/2018\n",
      "TIME OF TRANSACTION 03:02\n",
      "Saved model to C:\\Users\\Simrandeep\\Desktop\\Think\\ner output\\balance\n",
      "Loading from C:\\Users\\Simrandeep\\Desktop\\Think\\ner output\\balance\n",
      "ACCOUNT NO XXXXXXXX254103\n",
      "LEDGER BALANCE RS 8754.34\n",
      "ACCOUNT BALANCE RS 8754.34\n",
      "DATE OF TRANSACTION 14/02/2018\n",
      "TIME OF TRANSACTION 03:02\n"
     ]
    }
   ],
   "source": [
    "@plac.annotations(\n",
    "    model=(\"Model name. Defaults to blank 'en' model.\", \"option\", \"m\", str),\n",
    "    new_model_name=(\"New model name for model meta.\", \"option\", \"nm\", str),\n",
    "    output_dir=(\"Optional output directory\", \"option\", \"o\", Path),\n",
    "    n_iter=(\"Number of training iterations\", \"option\", \"n\", int))\n",
    "\n",
    "def main(model=None, new_model_name='model', output_dir='C:\\\\Users\\\\Simrandeep\\\\Desktop\\\\Think\\\\ner output\\\\balance', n_iter=50):\n",
    "    \"\"\"Set up the pipeline and entity recognizer, and train the new entity.\"\"\"\n",
    "    if model is not None:\n",
    "        nlp = spacy.load(model)  # load existing spaCy model\n",
    "        print(\"Loaded model '%s'\" % model)\n",
    "    else:\n",
    "        nlp = spacy.blank('en')  # create blank Language class\n",
    "        print(\"Created blank 'en' model\")\n",
    "\n",
    "    # Add entity recognizer to model if it's not in the pipeline\n",
    "    # nlp.create_pipe works for built-ins that are registered with spaCy\n",
    "    if 'ner' not in nlp.pipe_names:\n",
    "        ner = nlp.create_pipe('ner')\n",
    "        nlp.add_pipe(ner)\n",
    "    # otherwise, get it, so we can add labels to it\n",
    "    else:\n",
    "        ner = nlp.get_pipe('ner')\n",
    "    \n",
    "    for label in LABELS:\n",
    "        ner.add_label(label)   # add new entity label to entity recognizer\n",
    "\n",
    "    # get names of other pipes to disable them during training\n",
    "    random.seed(7)\n",
    "    other_pipes = [pipe for pipe in nlp.pipe_names if pipe != 'ner']\n",
    "    with nlp.disable_pipes(*other_pipes):  # only train NER\n",
    "        optimizer = nlp.begin_training()\n",
    "        for itn in range(n_iter):\n",
    "            random.shuffle(TRAIN_DATA)\n",
    "            losses = {}\n",
    "            batches = minibatch(TRAIN_DATA, size=compounding(4.0, 32.0, 1.001))\n",
    "            for batch in batches:\n",
    "                texts, annotations = zip(*batch)\n",
    "                nlp.update(texts, annotations, sgd=optimizer, drop=0.35,\n",
    "                           losses=losses)\n",
    "            print(losses)\n",
    "\n",
    "    # test the trained model\n",
    "    test_text = 'THE ACCOUNT NUMBER XXXXXXXX254103 HAS LEDGER BALANCE OF RS 8754.34 AND AVAILABLE BALANCE OF RS 8754.34 AS ON 14/02/2018 AT 03:02.'\n",
    "    doc = nlp(test_text)\n",
    "    print(\"Entities in '%s'\" % test_text)\n",
    "    for ent in doc.ents:\n",
    "        print(ent.label_, ent.text)\n",
    "\n",
    "    # save model to output directory\n",
    "    if output_dir is not None:\n",
    "        output_dir = Path(output_dir)\n",
    "        if not output_dir.exists():\n",
    "            output_dir.mkdir()\n",
    "        nlp.meta['name'] = new_model_name  # rename model\n",
    "        nlp.to_disk(output_dir)\n",
    "        print(\"Saved model to\", output_dir)\n",
    "\n",
    "        # test the saved model\n",
    "        print(\"Loading from\", output_dir)\n",
    "        nlp2 = spacy.load(output_dir)\n",
    "        doc2 = nlp2(test_text)\n",
    "        for ent in doc2.ents:\n",
    "            print(ent.label_, ent.text)\n",
    "\n",
    "main()"
   ]
  },
  {
   "cell_type": "code",
   "execution_count": 14,
   "metadata": {
    "colab": {},
    "colab_type": "code",
    "id": "fGtk8lzh80BJ"
   },
   "outputs": [
    {
     "name": "stdout",
     "output_type": "stream",
     "text": [
      "Loading from C:\\Users\\Simrandeep\\Desktop\\Think\\ner output\\balance\n",
      "\n",
      "Entities in 'YOUR BALANCE FOR ACCOUNT NO. XXX554 IS RS. 930.66. HAVE A NICE DAY!.'\n",
      "ACCOUNT NO XXX554\n",
      "LEDGER BALANCE RS.\n",
      "TIME OF TRANSACTION 930.66\n"
     ]
    }
   ],
   "source": [
    "import spacy\n",
    "test_text=['YOUR BALANCE FOR ACCOUNT NO. XXX554 IS RS. 930.66. HAVE A NICE DAY!.']\n",
    "output_dir= 'C:\\\\Users\\\\Simrandeep\\\\Desktop\\\\Think\\\\ner output\\\\balance'\n",
    "\n",
    "# test the saved model\n",
    "print(\"Loading from\", output_dir)\n",
    "for text in test_text:\n",
    "    print(\"\")\n",
    "    print(\"Entities in '%s'\" % text)\n",
    "    nlp2 = spacy.load(output_dir)\n",
    "    doc2 = nlp2(text)\n",
    "    for ent in doc2.ents:\n",
    "        print(ent.label_, ent.text)"
   ]
  },
  {
   "cell_type": "code",
   "execution_count": null,
   "metadata": {},
   "outputs": [],
   "source": []
  }
 ],
 "metadata": {
  "colab": {
   "collapsed_sections": [],
   "name": "NER DEBIT.ipynb",
   "provenance": [],
   "version": "0.3.2"
  },
  "kernelspec": {
   "display_name": "Python 3",
   "language": "python",
   "name": "python3"
  },
  "language_info": {
   "codemirror_mode": {
    "name": "ipython",
    "version": 3
   },
   "file_extension": ".py",
   "mimetype": "text/x-python",
   "name": "python",
   "nbconvert_exporter": "python",
   "pygments_lexer": "ipython3",
   "version": "3.6.5"
  }
 },
 "nbformat": 4,
 "nbformat_minor": 1
}
